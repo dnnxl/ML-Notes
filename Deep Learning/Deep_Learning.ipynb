{
  "nbformat": 4,
  "nbformat_minor": 0,
  "metadata": {
    "anaconda-cloud": {},
    "kernelspec": {
      "display_name": "Python [default]",
      "language": "python",
      "name": "python3"
    },
    "language_info": {
      "codemirror_mode": {
        "name": "ipython",
        "version": 3
      },
      "file_extension": ".py",
      "mimetype": "text/x-python",
      "name": "python",
      "nbconvert_exporter": "python",
      "pygments_lexer": "ipython3",
      "version": "3.5.2"
    },
    "colab": {
      "name": "Deep Learning.ipynb",
      "version": "0.3.2",
      "provenance": [],
      "toc_visible": true,
      "include_colab_link": true
    }
  },
  "cells": [
    {
      "cell_type": "markdown",
      "metadata": {
        "id": "view-in-github",
        "colab_type": "text"
      },
      "source": [
        "<a href=\"https://colab.research.google.com/github/dnnxl/ML-Notes/blob/master/Deep%20Learning/Deep_Learning.ipynb\" target=\"_parent\"><img src=\"https://colab.research.google.com/assets/colab-badge.svg\" alt=\"Open In Colab\"/></a>"
      ]
    },
    {
      "cell_type": "markdown",
      "metadata": {
        "id": "TOvvSz7sqOI-",
        "colab_type": "text"
      },
      "source": [
        "# Deep Learning"
      ]
    },
    {
      "cell_type": "markdown",
      "metadata": {
        "id": "IGtizIRrqOJA",
        "colab_type": "text"
      },
      "source": [
        "Deep Learning is the most exciting and powerful branch of Machine Learning. Deep Learning models can be used for a variety of complex tasks:"
      ]
    },
    {
      "cell_type": "markdown",
      "metadata": {
        "id": "uu9FNxL2qOJB",
        "colab_type": "text"
      },
      "source": [
        "- Artificial Neural Networks for Regression and Classification\n",
        "- Convolutional Neural Networks for Computer Vision\n",
        "- Recurrent Neural Networks for Time Series Analysis\n",
        "- Self Organizing Maps for Feature Extraction\n",
        "- Deep Boltzmann Machines for Recommendation Systems\n",
        "- Auto Encoders for Recommendation Systems"
      ]
    },
    {
      "cell_type": "markdown",
      "metadata": {
        "id": "MKBJcropqOJB",
        "colab_type": "text"
      },
      "source": [
        "In this part, you will understand and learn how to implement the following Deep Learning models:"
      ]
    },
    {
      "cell_type": "markdown",
      "metadata": {
        "id": "9K0rHugSqOJC",
        "colab_type": "text"
      },
      "source": [
        "1. Artificial Neural Networks for a Business Problem\n",
        "2. Convolutional Neural Networks for a Computer Vision task"
      ]
    },
    {
      "cell_type": "markdown",
      "metadata": {
        "id": "fEnjMdmkqOJD",
        "colab_type": "text"
      },
      "source": [
        "Geoffrey Hinton\n",
        "Father of deep learning\n",
        "\n",
        "The idea behind deep learning, is how the human brain works. Recreate artificial neural nets."
      ]
    },
    {
      "cell_type": "markdown",
      "metadata": {
        "id": "tzjepU98qOJE",
        "colab_type": "text"
      },
      "source": [
        "> ## The Neuron"
      ]
    },
    {
      "cell_type": "code",
      "metadata": {
        "scrolled": true,
        "id": "hNUSX9IkqOJE",
        "colab_type": "code",
        "colab": {
          "base_uri": "https://localhost:8080/",
          "height": 1000
        },
        "outputId": "e99c910e-0048-4cf8-f99c-0d4702a7fe96"
      },
      "source": [
        "# Artificial Neural Network\n",
        "\n",
        "# Installing Theano\n",
        "# pip install --upgrade --no-deps git+git://github.com/Theano/Theano.git\n",
        "\n",
        "# Installing Tensorflow\n",
        "# Install Tensorflow from the website: https://www.tensorflow.org/versions/r0.12/get_started/os_setup.html\n",
        "\n",
        "# Installing Keras\n",
        "# pip install --upgrade keras\n",
        "\n",
        "# Part 1 - Data Preprocessing\n",
        "\n",
        "# Importing the libraries\n",
        "import numpy as np\n",
        "import matplotlib.pyplot as plt\n",
        "import pandas as pd\n",
        "\n",
        "# Importing the dataset\n",
        "dataset = pd.read_csv('Churn_Modelling.csv')\n",
        "X = dataset.iloc[:, 3:13].values\n",
        "y = dataset.iloc[:, 13].values\n",
        "\n",
        "# Encoding categorical data\n",
        "from sklearn.preprocessing import LabelEncoder, OneHotEncoder\n",
        "labelencoder_X_1 = LabelEncoder()\n",
        "X[:, 1] = labelencoder_X_1.fit_transform(X[:, 1])\n",
        "labelencoder_X_2 = LabelEncoder()\n",
        "X[:, 2] = labelencoder_X_2.fit_transform(X[:, 2])\n",
        "onehotencoder = OneHotEncoder(categorical_features = [1])\n",
        "X = onehotencoder.fit_transform(X).toarray()\n",
        "X = X[:, 1:]\n",
        "\n",
        "# Splitting the dataset into the Training set and Test set\n",
        "from sklearn.model_selection import train_test_split\n",
        "X_train, X_test, y_train, y_test = train_test_split(X, y, test_size = 0.2, random_state = 0)\n",
        "\n",
        "# Feature Scaling\n",
        "from sklearn.preprocessing import StandardScaler\n",
        "sc = StandardScaler()\n",
        "X_train = sc.fit_transform(X_train)\n",
        "X_test = sc.transform(X_test)\n",
        "\n",
        "# Part 2 - Now let's make the ANN!\n",
        "\n",
        "# Importing the Keras libraries and packages\n",
        "import keras\n",
        "from keras.models import Sequential\n",
        "from keras.layers import Dense\n",
        "\n",
        "# Initialising the ANN\n",
        "classifier = Sequential()\n",
        "\n",
        "# Adding the input layer and the first hidden layer\n",
        "classifier.add(Dense(output_dim = 6, init = 'uniform', activation = 'relu', input_dim = 11))\n",
        "\n",
        "# Adding the second hidden layer\n",
        "classifier.add(Dense(output_dim = 6, init = 'uniform', activation = 'relu'))\n",
        "\n",
        "# Adding the output layer\n",
        "classifier.add(Dense(output_dim = 1, init = 'uniform', activation = 'sigmoid'))\n",
        "\n",
        "# Compiling the ANN\n",
        "classifier.compile(optimizer = 'adam', loss = 'binary_crossentropy', metrics = ['accuracy'])\n",
        "\n",
        "# Fitting the ANN to the Training set\n",
        "classifier.fit(X_train, y_train, batch_size = 10, nb_epoch = 100)"
      ],
      "execution_count": 2,
      "outputs": [
        {
          "output_type": "stream",
          "text": [
            "/usr/local/lib/python3.6/dist-packages/sklearn/preprocessing/_encoders.py:415: FutureWarning: The handling of integer data will change in version 0.22. Currently, the categories are determined based on the range [0, max(values)], while in the future they will be determined based on the unique values.\n",
            "If you want the future behaviour and silence this warning, you can specify \"categories='auto'\".\n",
            "In case you used a LabelEncoder before this OneHotEncoder to convert the categories to integers, then you can now use the OneHotEncoder directly.\n",
            "  warnings.warn(msg, FutureWarning)\n",
            "/usr/local/lib/python3.6/dist-packages/sklearn/preprocessing/_encoders.py:451: DeprecationWarning: The 'categorical_features' keyword is deprecated in version 0.20 and will be removed in 0.22. You can use the ColumnTransformer instead.\n",
            "  \"use the ColumnTransformer instead.\", DeprecationWarning)\n",
            "Using TensorFlow backend.\n",
            "WARNING: Logging before flag parsing goes to stderr.\n",
            "W0831 21:55:51.902547 140212385163136 deprecation_wrapper.py:119] From /usr/local/lib/python3.6/dist-packages/keras/backend/tensorflow_backend.py:66: The name tf.get_default_graph is deprecated. Please use tf.compat.v1.get_default_graph instead.\n",
            "\n",
            "/usr/local/lib/python3.6/dist-packages/ipykernel_launcher.py:41: UserWarning: Update your `Dense` call to the Keras 2 API: `Dense(activation=\"relu\", input_dim=11, units=6, kernel_initializer=\"uniform\")`\n",
            "W0831 21:55:51.948364 140212385163136 deprecation_wrapper.py:119] From /usr/local/lib/python3.6/dist-packages/keras/backend/tensorflow_backend.py:541: The name tf.placeholder is deprecated. Please use tf.compat.v1.placeholder instead.\n",
            "\n",
            "W0831 21:55:51.954705 140212385163136 deprecation_wrapper.py:119] From /usr/local/lib/python3.6/dist-packages/keras/backend/tensorflow_backend.py:4432: The name tf.random_uniform is deprecated. Please use tf.random.uniform instead.\n",
            "\n",
            "/usr/local/lib/python3.6/dist-packages/ipykernel_launcher.py:44: UserWarning: Update your `Dense` call to the Keras 2 API: `Dense(activation=\"relu\", units=6, kernel_initializer=\"uniform\")`\n",
            "/usr/local/lib/python3.6/dist-packages/ipykernel_launcher.py:47: UserWarning: Update your `Dense` call to the Keras 2 API: `Dense(activation=\"sigmoid\", units=1, kernel_initializer=\"uniform\")`\n",
            "W0831 21:55:52.002314 140212385163136 deprecation_wrapper.py:119] From /usr/local/lib/python3.6/dist-packages/keras/optimizers.py:793: The name tf.train.Optimizer is deprecated. Please use tf.compat.v1.train.Optimizer instead.\n",
            "\n",
            "W0831 21:55:52.025038 140212385163136 deprecation_wrapper.py:119] From /usr/local/lib/python3.6/dist-packages/keras/backend/tensorflow_backend.py:3657: The name tf.log is deprecated. Please use tf.math.log instead.\n",
            "\n",
            "W0831 21:55:52.032032 140212385163136 deprecation.py:323] From /usr/local/lib/python3.6/dist-packages/tensorflow/python/ops/nn_impl.py:180: add_dispatch_support.<locals>.wrapper (from tensorflow.python.ops.array_ops) is deprecated and will be removed in a future version.\n",
            "Instructions for updating:\n",
            "Use tf.where in 2.0, which has the same broadcast rule as np.where\n",
            "/usr/local/lib/python3.6/dist-packages/ipykernel_launcher.py:53: UserWarning: The `nb_epoch` argument in `fit` has been renamed `epochs`.\n",
            "W0831 21:55:52.246142 140212385163136 deprecation_wrapper.py:119] From /usr/local/lib/python3.6/dist-packages/keras/backend/tensorflow_backend.py:1033: The name tf.assign_add is deprecated. Please use tf.compat.v1.assign_add instead.\n",
            "\n"
          ],
          "name": "stderr"
        },
        {
          "output_type": "stream",
          "text": [
            "Epoch 1/100\n",
            "8000/8000 [==============================] - 2s 198us/step - loss: 0.5060 - acc: 0.7952\n",
            "Epoch 2/100\n",
            "8000/8000 [==============================] - 1s 112us/step - loss: 0.4313 - acc: 0.7960\n",
            "Epoch 3/100\n",
            "8000/8000 [==============================] - 1s 112us/step - loss: 0.4297 - acc: 0.7960\n",
            "Epoch 4/100\n",
            "8000/8000 [==============================] - 1s 112us/step - loss: 0.4278 - acc: 0.7960\n",
            "Epoch 5/100\n",
            "8000/8000 [==============================] - 1s 112us/step - loss: 0.4261 - acc: 0.7960\n",
            "Epoch 6/100\n",
            "8000/8000 [==============================] - 1s 111us/step - loss: 0.4223 - acc: 0.8032\n",
            "Epoch 7/100\n",
            "8000/8000 [==============================] - 1s 110us/step - loss: 0.4187 - acc: 0.8229\n",
            "Epoch 8/100\n",
            "8000/8000 [==============================] - 1s 111us/step - loss: 0.4164 - acc: 0.8250\n",
            "Epoch 9/100\n",
            "8000/8000 [==============================] - 1s 109us/step - loss: 0.4144 - acc: 0.8284\n",
            "Epoch 10/100\n",
            "8000/8000 [==============================] - 1s 115us/step - loss: 0.4128 - acc: 0.8290\n",
            "Epoch 11/100\n",
            "8000/8000 [==============================] - 1s 114us/step - loss: 0.4116 - acc: 0.8314\n",
            "Epoch 12/100\n",
            "8000/8000 [==============================] - 1s 114us/step - loss: 0.4105 - acc: 0.8320\n",
            "Epoch 13/100\n",
            "8000/8000 [==============================] - 1s 112us/step - loss: 0.4096 - acc: 0.8314\n",
            "Epoch 14/100\n",
            "8000/8000 [==============================] - 1s 112us/step - loss: 0.4082 - acc: 0.8327\n",
            "Epoch 15/100\n",
            "8000/8000 [==============================] - 1s 111us/step - loss: 0.4079 - acc: 0.8341\n",
            "Epoch 16/100\n",
            "8000/8000 [==============================] - 1s 112us/step - loss: 0.4073 - acc: 0.8322\n",
            "Epoch 17/100\n",
            "8000/8000 [==============================] - 1s 112us/step - loss: 0.4071 - acc: 0.8345\n",
            "Epoch 18/100\n",
            "8000/8000 [==============================] - 1s 116us/step - loss: 0.4059 - acc: 0.8346\n",
            "Epoch 19/100\n",
            "8000/8000 [==============================] - 1s 109us/step - loss: 0.4060 - acc: 0.8342\n",
            "Epoch 20/100\n",
            "8000/8000 [==============================] - 1s 109us/step - loss: 0.4054 - acc: 0.8332\n",
            "Epoch 21/100\n",
            "8000/8000 [==============================] - 1s 111us/step - loss: 0.4053 - acc: 0.8346\n",
            "Epoch 22/100\n",
            "8000/8000 [==============================] - 1s 109us/step - loss: 0.4046 - acc: 0.8340\n",
            "Epoch 23/100\n",
            "8000/8000 [==============================] - 1s 110us/step - loss: 0.4045 - acc: 0.8341\n",
            "Epoch 24/100\n",
            "8000/8000 [==============================] - 1s 111us/step - loss: 0.4036 - acc: 0.8341\n",
            "Epoch 25/100\n",
            "8000/8000 [==============================] - 1s 110us/step - loss: 0.4039 - acc: 0.8366\n",
            "Epoch 26/100\n",
            "8000/8000 [==============================] - 1s 109us/step - loss: 0.4035 - acc: 0.8356\n",
            "Epoch 27/100\n",
            "8000/8000 [==============================] - 1s 110us/step - loss: 0.4039 - acc: 0.8339\n",
            "Epoch 28/100\n",
            "8000/8000 [==============================] - 1s 109us/step - loss: 0.4029 - acc: 0.8347\n",
            "Epoch 29/100\n",
            "8000/8000 [==============================] - 1s 112us/step - loss: 0.4028 - acc: 0.8340\n",
            "Epoch 30/100\n",
            "8000/8000 [==============================] - 1s 109us/step - loss: 0.4022 - acc: 0.8350\n",
            "Epoch 31/100\n",
            "8000/8000 [==============================] - 1s 117us/step - loss: 0.4028 - acc: 0.8344\n",
            "Epoch 32/100\n",
            "8000/8000 [==============================] - 1s 116us/step - loss: 0.4025 - acc: 0.8342\n",
            "Epoch 33/100\n",
            "8000/8000 [==============================] - 1s 113us/step - loss: 0.4018 - acc: 0.8354\n",
            "Epoch 34/100\n",
            "8000/8000 [==============================] - 1s 109us/step - loss: 0.4023 - acc: 0.8346\n",
            "Epoch 35/100\n",
            "8000/8000 [==============================] - 1s 110us/step - loss: 0.4019 - acc: 0.8346\n",
            "Epoch 36/100\n",
            "8000/8000 [==============================] - 1s 109us/step - loss: 0.4018 - acc: 0.8354\n",
            "Epoch 37/100\n",
            "8000/8000 [==============================] - 1s 109us/step - loss: 0.4018 - acc: 0.8361\n",
            "Epoch 38/100\n",
            "8000/8000 [==============================] - 1s 112us/step - loss: 0.4019 - acc: 0.8352\n",
            "Epoch 39/100\n",
            "8000/8000 [==============================] - 1s 110us/step - loss: 0.4013 - acc: 0.8355\n",
            "Epoch 40/100\n",
            "8000/8000 [==============================] - 1s 111us/step - loss: 0.4017 - acc: 0.8342\n",
            "Epoch 41/100\n",
            "8000/8000 [==============================] - 1s 118us/step - loss: 0.4011 - acc: 0.8350\n",
            "Epoch 42/100\n",
            "8000/8000 [==============================] - 1s 113us/step - loss: 0.4010 - acc: 0.8345\n",
            "Epoch 43/100\n",
            "8000/8000 [==============================] - 1s 111us/step - loss: 0.4010 - acc: 0.8346\n",
            "Epoch 44/100\n",
            "8000/8000 [==============================] - 1s 111us/step - loss: 0.4013 - acc: 0.8354\n",
            "Epoch 45/100\n",
            "8000/8000 [==============================] - 1s 110us/step - loss: 0.4009 - acc: 0.8351\n",
            "Epoch 46/100\n",
            "8000/8000 [==============================] - 1s 110us/step - loss: 0.4009 - acc: 0.8365\n",
            "Epoch 47/100\n",
            "8000/8000 [==============================] - 1s 110us/step - loss: 0.4009 - acc: 0.8359\n",
            "Epoch 48/100\n",
            "8000/8000 [==============================] - 1s 113us/step - loss: 0.4001 - acc: 0.8367\n",
            "Epoch 49/100\n",
            "8000/8000 [==============================] - 1s 118us/step - loss: 0.4006 - acc: 0.8367\n",
            "Epoch 50/100\n",
            "8000/8000 [==============================] - 1s 110us/step - loss: 0.4008 - acc: 0.8357\n",
            "Epoch 51/100\n",
            "8000/8000 [==============================] - 1s 109us/step - loss: 0.3999 - acc: 0.8359\n",
            "Epoch 52/100\n",
            "8000/8000 [==============================] - 1s 111us/step - loss: 0.4003 - acc: 0.8356\n",
            "Epoch 53/100\n",
            "8000/8000 [==============================] - 1s 108us/step - loss: 0.4004 - acc: 0.8356\n",
            "Epoch 54/100\n",
            "8000/8000 [==============================] - 1s 107us/step - loss: 0.4002 - acc: 0.8379\n",
            "Epoch 55/100\n",
            "8000/8000 [==============================] - 1s 109us/step - loss: 0.3995 - acc: 0.8365\n",
            "Epoch 56/100\n",
            "8000/8000 [==============================] - 1s 110us/step - loss: 0.4002 - acc: 0.8362\n",
            "Epoch 57/100\n",
            "8000/8000 [==============================] - 1s 112us/step - loss: 0.4003 - acc: 0.8359\n",
            "Epoch 58/100\n",
            "8000/8000 [==============================] - 1s 111us/step - loss: 0.3999 - acc: 0.8360\n",
            "Epoch 59/100\n",
            "8000/8000 [==============================] - 1s 111us/step - loss: 0.4001 - acc: 0.8365\n",
            "Epoch 60/100\n",
            "8000/8000 [==============================] - 1s 107us/step - loss: 0.4005 - acc: 0.8354\n",
            "Epoch 61/100\n",
            "8000/8000 [==============================] - 1s 111us/step - loss: 0.3997 - acc: 0.8356\n",
            "Epoch 62/100\n",
            "8000/8000 [==============================] - 1s 113us/step - loss: 0.3997 - acc: 0.8364\n",
            "Epoch 63/100\n",
            "8000/8000 [==============================] - 1s 113us/step - loss: 0.3993 - acc: 0.8355\n",
            "Epoch 64/100\n",
            "8000/8000 [==============================] - 1s 115us/step - loss: 0.3997 - acc: 0.8361\n",
            "Epoch 65/100\n",
            "8000/8000 [==============================] - 1s 112us/step - loss: 0.3994 - acc: 0.8366\n",
            "Epoch 66/100\n",
            "8000/8000 [==============================] - 1s 111us/step - loss: 0.3994 - acc: 0.8357\n",
            "Epoch 67/100\n",
            "8000/8000 [==============================] - 1s 110us/step - loss: 0.3996 - acc: 0.8354\n",
            "Epoch 68/100\n",
            "8000/8000 [==============================] - 1s 109us/step - loss: 0.3996 - acc: 0.8366\n",
            "Epoch 69/100\n",
            "8000/8000 [==============================] - 1s 113us/step - loss: 0.3989 - acc: 0.8362\n",
            "Epoch 70/100\n",
            "8000/8000 [==============================] - 1s 109us/step - loss: 0.3992 - acc: 0.8379\n",
            "Epoch 71/100\n",
            "8000/8000 [==============================] - 1s 113us/step - loss: 0.3987 - acc: 0.8345\n",
            "Epoch 72/100\n",
            "8000/8000 [==============================] - 1s 112us/step - loss: 0.3995 - acc: 0.8351\n",
            "Epoch 73/100\n",
            "8000/8000 [==============================] - 1s 110us/step - loss: 0.3990 - acc: 0.8364\n",
            "Epoch 74/100\n",
            "8000/8000 [==============================] - 1s 111us/step - loss: 0.3990 - acc: 0.8356\n",
            "Epoch 75/100\n",
            "8000/8000 [==============================] - 1s 112us/step - loss: 0.3984 - acc: 0.8370\n",
            "Epoch 76/100\n",
            "8000/8000 [==============================] - 1s 112us/step - loss: 0.3987 - acc: 0.8371\n",
            "Epoch 77/100\n",
            "8000/8000 [==============================] - 1s 110us/step - loss: 0.3990 - acc: 0.8375\n",
            "Epoch 78/100\n",
            "8000/8000 [==============================] - 1s 109us/step - loss: 0.3986 - acc: 0.8380\n",
            "Epoch 79/100\n",
            "8000/8000 [==============================] - 1s 112us/step - loss: 0.3984 - acc: 0.8360\n",
            "Epoch 80/100\n",
            "8000/8000 [==============================] - 1s 110us/step - loss: 0.3986 - acc: 0.8360\n",
            "Epoch 81/100\n",
            "8000/8000 [==============================] - 1s 111us/step - loss: 0.3989 - acc: 0.8370\n",
            "Epoch 82/100\n",
            "8000/8000 [==============================] - 1s 109us/step - loss: 0.3988 - acc: 0.8365\n",
            "Epoch 83/100\n",
            "8000/8000 [==============================] - 1s 112us/step - loss: 0.3985 - acc: 0.8370\n",
            "Epoch 84/100\n",
            "8000/8000 [==============================] - 1s 107us/step - loss: 0.3985 - acc: 0.8365\n",
            "Epoch 85/100\n",
            "8000/8000 [==============================] - 1s 111us/step - loss: 0.3991 - acc: 0.8367\n",
            "Epoch 86/100\n",
            "8000/8000 [==============================] - 1s 112us/step - loss: 0.3987 - acc: 0.8374\n",
            "Epoch 87/100\n",
            "8000/8000 [==============================] - 1s 111us/step - loss: 0.3989 - acc: 0.8362\n",
            "Epoch 88/100\n",
            "8000/8000 [==============================] - 1s 111us/step - loss: 0.3987 - acc: 0.8372\n",
            "Epoch 89/100\n",
            "8000/8000 [==============================] - 1s 112us/step - loss: 0.3981 - acc: 0.8369\n",
            "Epoch 90/100\n",
            "8000/8000 [==============================] - 1s 114us/step - loss: 0.3985 - acc: 0.8362\n",
            "Epoch 91/100\n",
            "8000/8000 [==============================] - 1s 109us/step - loss: 0.3985 - acc: 0.8367\n",
            "Epoch 92/100\n",
            "8000/8000 [==============================] - 1s 112us/step - loss: 0.3982 - acc: 0.8362\n",
            "Epoch 93/100\n",
            "8000/8000 [==============================] - 1s 111us/step - loss: 0.3982 - acc: 0.8364\n",
            "Epoch 94/100\n",
            "8000/8000 [==============================] - 1s 111us/step - loss: 0.3988 - acc: 0.8366\n",
            "Epoch 95/100\n",
            "8000/8000 [==============================] - 1s 113us/step - loss: 0.3984 - acc: 0.8372\n",
            "Epoch 96/100\n",
            "8000/8000 [==============================] - 1s 110us/step - loss: 0.3983 - acc: 0.8376\n",
            "Epoch 97/100\n",
            "8000/8000 [==============================] - 1s 110us/step - loss: 0.3980 - acc: 0.8361\n",
            "Epoch 98/100\n",
            "8000/8000 [==============================] - 1s 110us/step - loss: 0.3978 - acc: 0.8356\n",
            "Epoch 99/100\n",
            "8000/8000 [==============================] - 1s 112us/step - loss: 0.3980 - acc: 0.8352\n",
            "Epoch 100/100\n",
            "8000/8000 [==============================] - 1s 112us/step - loss: 0.3986 - acc: 0.8390\n"
          ],
          "name": "stdout"
        },
        {
          "output_type": "execute_result",
          "data": {
            "text/plain": [
              "<keras.callbacks.History at 0x7f857afa0588>"
            ]
          },
          "metadata": {
            "tags": []
          },
          "execution_count": 2
        }
      ]
    },
    {
      "cell_type": "code",
      "metadata": {
        "id": "A0162RthqOJJ",
        "colab_type": "code",
        "colab": {
          "base_uri": "https://localhost:8080/",
          "height": 134
        },
        "outputId": "e8f7acc4-416c-4116-87d9-2840b45bc3de"
      },
      "source": [
        "y_pred = classifier.predict(X_test)\n",
        "y_pred = (y_pred > 0.50)\n",
        "y_pred"
      ],
      "execution_count": 3,
      "outputs": [
        {
          "output_type": "execute_result",
          "data": {
            "text/plain": [
              "array([[False],\n",
              "       [False],\n",
              "       [False],\n",
              "       ...,\n",
              "       [False],\n",
              "       [False],\n",
              "       [False]])"
            ]
          },
          "metadata": {
            "tags": []
          },
          "execution_count": 3
        }
      ]
    },
    {
      "cell_type": "code",
      "metadata": {
        "id": "hyg8YYCHqOJO",
        "colab_type": "code",
        "colab": {
          "base_uri": "https://localhost:8080/",
          "height": 50
        },
        "outputId": "4b67fffb-5606-409d-b978-93416c8b0db7"
      },
      "source": [
        "from sklearn.metrics import confusion_matrix\n",
        "cm = confusion_matrix(y_test, y_pred)\n",
        "cm"
      ],
      "execution_count": 4,
      "outputs": [
        {
          "output_type": "execute_result",
          "data": {
            "text/plain": [
              "array([[1540,   55],\n",
              "       [ 257,  148]])"
            ]
          },
          "metadata": {
            "tags": []
          },
          "execution_count": 4
        }
      ]
    },
    {
      "cell_type": "markdown",
      "metadata": {
        "id": "V4xR33v6qOJS",
        "colab_type": "text"
      },
      "source": [
        "<BR>"
      ]
    },
    {
      "cell_type": "markdown",
      "metadata": {
        "id": "tsdd6kYCqOJS",
        "colab_type": "text"
      },
      "source": [
        "## Convolutional Neural Networks"
      ]
    },
    {
      "cell_type": "markdown",
      "metadata": {
        "id": "bLs8opfrqOJT",
        "colab_type": "text"
      },
      "source": [
        "**The CNN model, Step by step**\n",
        "1. Convolution\n",
        "2. Max Pooling\n",
        "3. Flattening\n",
        "4. Full Connection]"
      ]
    },
    {
      "cell_type": "markdown",
      "metadata": {
        "id": "VF4DS8t-qOJU",
        "colab_type": "text"
      },
      "source": [
        "**Python implementation**"
      ]
    },
    {
      "cell_type": "code",
      "metadata": {
        "id": "S5q5V7yMqOJW",
        "colab_type": "code",
        "colab": {}
      },
      "source": [
        "# Importing the Keras libraries and packages\n",
        "from keras.models import Sequential\n",
        "from keras.layers import Convolution2D\n",
        "from keras.layers import MaxPooling2D\n",
        "from keras.layers import Flatten\n",
        "from keras.layers import Dense"
      ],
      "execution_count": 0,
      "outputs": []
    },
    {
      "cell_type": "code",
      "metadata": {
        "id": "lTQ6Ln9qqOJY",
        "colab_type": "code",
        "colab": {}
      },
      "source": [
        "# Initialising the CNN\n",
        "classifier = Sequential()"
      ],
      "execution_count": 0,
      "outputs": []
    },
    {
      "cell_type": "code",
      "metadata": {
        "id": "XG9Ftgy5qOJc",
        "colab_type": "code",
        "colab": {
          "base_uri": "https://localhost:8080/",
          "height": 70
        },
        "outputId": "149da862-5758-4069-c5b2-78f4d83800a8"
      },
      "source": [
        "# Step 1 = Convolution\n",
        "classifier.add(Convolution2D(32, 3, 3, input_shape = (64,64,3), activation = \"relu\"))"
      ],
      "execution_count": 7,
      "outputs": [
        {
          "output_type": "stream",
          "text": [
            "/usr/local/lib/python3.6/dist-packages/ipykernel_launcher.py:1: UserWarning: Update your `Conv2D` call to the Keras 2 API: `Conv2D(32, (3, 3), input_shape=(64, 64, 3..., activation=\"relu\")`\n",
            "  \"\"\"Entry point for launching an IPython kernel.\n"
          ],
          "name": "stderr"
        }
      ]
    },
    {
      "cell_type": "code",
      "metadata": {
        "id": "8grfVlyVqOJg",
        "colab_type": "code",
        "colab": {
          "base_uri": "https://localhost:8080/",
          "height": 104
        },
        "outputId": "933697b1-0818-47b5-edc3-3047e77d7c07"
      },
      "source": [
        "#  Step 2\n",
        "classifier.add(MaxPooling2D(pool_size= (2,2)))\n",
        "\n",
        "# Adding second convolutional layer\n",
        "classifier.add(Convolution2D(32, 3, 3, activation = \"relu\"))\n",
        "classifier.add(MaxPooling2D(pool_size= (2,2)))"
      ],
      "execution_count": 8,
      "outputs": [
        {
          "output_type": "stream",
          "text": [
            "W0831 21:58:21.491224 140212385163136 deprecation_wrapper.py:119] From /usr/local/lib/python3.6/dist-packages/keras/backend/tensorflow_backend.py:4267: The name tf.nn.max_pool is deprecated. Please use tf.nn.max_pool2d instead.\n",
            "\n",
            "/usr/local/lib/python3.6/dist-packages/ipykernel_launcher.py:4: UserWarning: Update your `Conv2D` call to the Keras 2 API: `Conv2D(32, (3, 3), activation=\"relu\")`\n",
            "  after removing the cwd from sys.path.\n"
          ],
          "name": "stderr"
        }
      ]
    },
    {
      "cell_type": "code",
      "metadata": {
        "id": "lquNOKpCqOJi",
        "colab_type": "code",
        "colab": {}
      },
      "source": [
        "# Step 3\n",
        "classifier.add(Flatten())"
      ],
      "execution_count": 0,
      "outputs": []
    },
    {
      "cell_type": "code",
      "metadata": {
        "id": "o_jwAcowqOJk",
        "colab_type": "code",
        "colab": {
          "base_uri": "https://localhost:8080/",
          "height": 104
        },
        "outputId": "283e530d-1d52-400b-8fae-5eaa8f6c473b"
      },
      "source": [
        "# Step 4 - Full connection\n",
        "classifier.add(Dense(output_dim = 128, activation = \"relu\"))\n",
        "classifier.add(Dense(output_dim = 1, activation = \"sigmoid\"))"
      ],
      "execution_count": 10,
      "outputs": [
        {
          "output_type": "stream",
          "text": [
            "/usr/local/lib/python3.6/dist-packages/ipykernel_launcher.py:1: UserWarning: Update your `Dense` call to the Keras 2 API: `Dense(activation=\"relu\", units=128)`\n",
            "  \"\"\"Entry point for launching an IPython kernel.\n",
            "/usr/local/lib/python3.6/dist-packages/ipykernel_launcher.py:2: UserWarning: Update your `Dense` call to the Keras 2 API: `Dense(activation=\"sigmoid\", units=1)`\n",
            "  \n"
          ],
          "name": "stderr"
        }
      ]
    },
    {
      "cell_type": "code",
      "metadata": {
        "id": "DZJ5cKK-qOJn",
        "colab_type": "code",
        "colab": {}
      },
      "source": [
        "# Compiling the CNN\n",
        "classifier.compile(optimizer = \"adam\", loss = \"binary_crossentropy\", metrics = [\"accuracy\"])"
      ],
      "execution_count": 0,
      "outputs": []
    },
    {
      "cell_type": "code",
      "metadata": {
        "id": "cXlNFyQQqOJp",
        "colab_type": "code",
        "colab": {}
      },
      "source": [
        "# Fitting the CNN to the images\n",
        "from keras.preprocessing.image import ImageDataGenerator\n",
        "import pandas as pd\n",
        "\n",
        "train_datagen = ImageDataGenerator(rescale = 1./255, shear_range = 0.2, zoom_range = 0.2, horizontal_flip = True)\n",
        "test_datagen = ImageDataGenerator(rescale = 1./255)\n",
        "\n",
        "training_set = train_datagen.flow_from_directory(\"Convolutional_Neural_Networks/dataset/training_set\", target_size = (64,64), batch_size = 32, class_mode = \"binary\")\n",
        "test_set = test_datagen.flow_from_directory(\"Convolutional_Neural_Networks/dataset/test_set\", target_size = (64,64), batch_size = 32, class_mode = \"binary\")\n",
        "\n",
        "print(training_set)"
      ],
      "execution_count": 0,
      "outputs": []
    },
    {
      "cell_type": "code",
      "metadata": {
        "scrolled": false,
        "id": "bsSmtxpQqOJt",
        "colab_type": "code",
        "colab": {}
      },
      "source": [
        "classifier.fit_generator(training_set, samples_per_epoch = 8000, nb_epoch = 25, validation_data = test_set, nb_val_samples = 2000)"
      ],
      "execution_count": 0,
      "outputs": []
    },
    {
      "cell_type": "code",
      "metadata": {
        "scrolled": true,
        "id": "y-ec8VvrqOJz",
        "colab_type": "code",
        "colab": {}
      },
      "source": [
        "from keras.models import model_from_json"
      ],
      "execution_count": 0,
      "outputs": []
    },
    {
      "cell_type": "code",
      "metadata": {
        "id": "CdHVhW1TqOJ3",
        "colab_type": "code",
        "colab": {},
        "outputId": "32ea6e2c-dd94-430d-bda4-2e0da5956813"
      },
      "source": [
        "# serialize model to JSON\n",
        "model_json = classifier.to_json()\n",
        "with open(\"model.json\", \"w\") as json_file:\n",
        "    json_file.write(model_json)\n",
        "# serialize weights to HDF5\n",
        "classifier.save_weights(\"model.h5\")\n",
        "print(\"Saved model to disk\")"
      ],
      "execution_count": 0,
      "outputs": [
        {
          "output_type": "stream",
          "text": [
            "Saved model to disk\n"
          ],
          "name": "stdout"
        }
      ]
    },
    {
      "cell_type": "code",
      "metadata": {
        "id": "iEsG5Fs-qOJ6",
        "colab_type": "code",
        "colab": {},
        "outputId": "fb48e6d3-6853-4b62-fce8-f703ef215ac2"
      },
      "source": [
        "# load json and create model\n",
        "json_file = open('model.json', 'r')\n",
        "loaded_model_json = json_file.read()\n",
        "json_file.close()\n",
        "loaded_model = model_from_json(loaded_model_json)\n",
        "# load weights into new model\n",
        "loaded_model.load_weights(\"model.h5\")\n",
        "print(\"Loaded model from disk\")"
      ],
      "execution_count": 0,
      "outputs": [
        {
          "output_type": "stream",
          "text": [
            "Loaded model from disk\n"
          ],
          "name": "stdout"
        }
      ]
    },
    {
      "cell_type": "code",
      "metadata": {
        "id": "Ig3q8tLuqOJ8",
        "colab_type": "code",
        "colab": {}
      },
      "source": [
        "# evaluate loaded model on test data\n",
        "loaded_model.compile(loss='binary_crossentropy', optimizer='rmsprop', metrics=['accuracy'])\n",
        "score = loaded_model.evaluate(X, Y, verbose=0)\n",
        "print(\"%s: %.2f%%\" % (loaded_model.metrics_names[1], score[1]*100))"
      ],
      "execution_count": 0,
      "outputs": []
    },
    {
      "cell_type": "code",
      "metadata": {
        "id": "co6zgWqmqOKB",
        "colab_type": "code",
        "colab": {}
      },
      "source": [
        ""
      ],
      "execution_count": 0,
      "outputs": []
    }
  ]
}