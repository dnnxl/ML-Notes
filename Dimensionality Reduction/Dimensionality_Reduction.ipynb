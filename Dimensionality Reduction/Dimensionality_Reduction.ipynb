{
  "nbformat": 4,
  "nbformat_minor": 0,
  "metadata": {
    "anaconda-cloud": {},
    "kernelspec": {
      "display_name": "Python [conda env:Anaconda3]",
      "language": "python",
      "name": "conda-env-Anaconda3-py"
    },
    "language_info": {
      "codemirror_mode": {
        "name": "ipython",
        "version": 3
      },
      "file_extension": ".py",
      "mimetype": "text/x-python",
      "name": "python",
      "nbconvert_exporter": "python",
      "pygments_lexer": "ipython3",
      "version": "3.5.2"
    },
    "colab": {
      "name": "Dimensionality Reduction.ipynb",
      "version": "0.3.2",
      "provenance": [],
      "include_colab_link": true
    }
  },
  "cells": [
    {
      "cell_type": "markdown",
      "metadata": {
        "id": "view-in-github",
        "colab_type": "text"
      },
      "source": [
        "<a href=\"https://colab.research.google.com/github/dnnxl/ML-Notes/blob/master/Dimensionality%20Reduction/Dimensionality_Reduction.ipynb\" target=\"_parent\"><img src=\"https://colab.research.google.com/assets/colab-badge.svg\" alt=\"Open In Colab\"/></a>"
      ]
    },
    {
      "cell_type": "markdown",
      "metadata": {
        "id": "EsDIM965s9ql",
        "colab_type": "text"
      },
      "source": [
        "# Dimensionality Reduction"
      ]
    },
    {
      "cell_type": "markdown",
      "metadata": {
        "id": "akfqShRVs9qm",
        "colab_type": "text"
      },
      "source": [
        "**Classification, we worked with datasets composed of only two independent variables. We did for two reasons:**"
      ]
    },
    {
      "cell_type": "markdown",
      "metadata": {
        "id": "lgCmAaE5s9qn",
        "colab_type": "text"
      },
      "source": [
        "1. Because we needed two dimensions to visualize better how Machine Learning models worked (by plotting the prediction regions and the prediction boundary for each model).\n",
        "\n",
        "2. Because whatever is the original number of our independent variables, we can often end up with two independent variables by applying an appropriate Dimensionality Reduction technique."
      ]
    },
    {
      "cell_type": "markdown",
      "metadata": {
        "id": "BqT13Hobs9qo",
        "colab_type": "text"
      },
      "source": [
        "There are two types of Dimensionality Reduction techniques:\n",
        "\n",
        "1. Feature Selection\n",
        "2. Feature Extraction\n"
      ]
    },
    {
      "cell_type": "markdown",
      "metadata": {
        "id": "N_qNJTOvs9qp",
        "colab_type": "text"
      },
      "source": [
        "Feature Selection techniques are Backward Elimination, Forward Selection, Bidirectional Elimination, Score Comparison and more. We covered these techniques in Part 2 - Regression."
      ]
    },
    {
      "cell_type": "markdown",
      "metadata": {
        "id": "MD27mBQas9qq",
        "colab_type": "text"
      },
      "source": [
        "In this part we will cover the following Feature Extraction techniques:\n",
        "\n",
        "1. Principal Component Analysis (PCA)\n",
        "2. Linear Discriminant Analysis (LDA)\n",
        "3. Kernel PCA\n",
        "4. Quadratic Discriminant Analysis (QDA)"
      ]
    },
    {
      "cell_type": "markdown",
      "metadata": {
        "id": "xvMMO-uLs9qr",
        "colab_type": "text"
      },
      "source": [
        "<BR>"
      ]
    },
    {
      "cell_type": "markdown",
      "metadata": {
        "id": "VuG5I-3fs9qt",
        "colab_type": "text"
      },
      "source": [
        "## Principal Component Analysis - PCA"
      ]
    },
    {
      "cell_type": "markdown",
      "metadata": {
        "id": "LVyHdUd8s9qv",
        "colab_type": "text"
      },
      "source": [
        "Is considered to be one of the most used unsupervised algorithms and the most popular, is used in:\n"
      ]
    },
    {
      "cell_type": "markdown",
      "metadata": {
        "id": "K452ISFss9qx",
        "colab_type": "text"
      },
      "source": [
        "- Noise filtering\n",
        "- Visualization\n",
        "- Feature Extraction\n",
        "- Stock market predictions\n",
        "- Gene data analysis"
      ]
    },
    {
      "cell_type": "markdown",
      "metadata": {
        "id": "AI0_uPkBs9qz",
        "colab_type": "text"
      },
      "source": [
        "The goal of PCA is to identify and detect the correlation between variables."
      ]
    },
    {
      "cell_type": "markdown",
      "metadata": {
        "id": "wRRgYUC2s9q0",
        "colab_type": "text"
      },
      "source": [
        "- Identify patterns in data\n",
        "- Detect the correlation between variables"
      ]
    },
    {
      "cell_type": "markdown",
      "metadata": {
        "id": "VXhiZFnms9q1",
        "colab_type": "text"
      },
      "source": [
        "Reduce the dimensions of a d-dimensional dataset by projecting it onto a (K)- dimensional subspace (where k<d)"
      ]
    },
    {
      "cell_type": "markdown",
      "metadata": {
        "id": "y06AUv0ms9q1",
        "colab_type": "text"
      },
      "source": [
        "The main function of the PCA is:\n",
        "- Standardize the data\n",
        "- Obtain the Eigenvectors and Eigenvalues from the covariance matrix or correlation matrix, or perform Singular Vector Decomposition.\n",
        "- Sort eigenvalues in descending order and choose the $k$ eigenvectors that correspond to the $k$ largest eigenvalues where $k$ is the number of dimensions of the new feature subspace $(k <= d)l$.\n",
        "- Construct the projection matrix $W$ from the selected $k$ eigenvectors.\n",
        "- Transform the original dataset $X$ via $W$ to obtain a k-dimensionalfeature subspace $Y$."
      ]
    },
    {
      "cell_type": "markdown",
      "metadata": {
        "id": "vdNTbko6s9q2",
        "colab_type": "text"
      },
      "source": [
        "The PCA:\n",
        "- Learn about the relationship between $X$ and $Y$ values\n",
        "- Find list of principal axes"
      ]
    },
    {
      "cell_type": "code",
      "metadata": {
        "id": "IpRjXvMrs9q3",
        "colab_type": "code",
        "colab": {}
      },
      "source": [
        ""
      ],
      "execution_count": 0,
      "outputs": []
    }
  ]
}